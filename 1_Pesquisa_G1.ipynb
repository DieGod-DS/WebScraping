{
 "cells": [
  {
   "cell_type": "markdown",
   "metadata": {},
   "source": [
    "#### Importando bibliotecas"
   ]
  },
  {
   "cell_type": "code",
   "execution_count": 12,
   "metadata": {},
   "outputs": [],
   "source": [
    "import requests\n",
    "import pandas as pd\n",
    "from bs4 import BeautifulSoup"
   ]
  },
  {
   "cell_type": "markdown",
   "metadata": {},
   "source": [
    "## 1. Estudando WebScraping com notícia do G1"
   ]
  },
  {
   "cell_type": "code",
   "execution_count": 13,
   "metadata": {},
   "outputs": [],
   "source": [
    "# criando lista de notícias\n",
    "news_list = []"
   ]
  },
  {
   "cell_type": "code",
   "execution_count": 14,
   "metadata": {},
   "outputs": [],
   "source": [
    "# pedindo os dados da página\n",
    "response = requests.get('https://g1.globo.com')"
   ]
  },
  {
   "cell_type": "code",
   "execution_count": 15,
   "metadata": {},
   "outputs": [],
   "source": [
    "# Transofrmando em um objeto de BeautifulSoup\n",
    "\n",
    "#print(response.status_code)\n",
    "#print(response.headers)\n",
    "\n",
    "# Mostra todo o conteudo HTML da página\n",
    "content = response.content"
   ]
  },
  {
   "cell_type": "markdown",
   "metadata": {},
   "source": []
  },
  {
   "cell_type": "code",
   "execution_count": 16,
   "metadata": {},
   "outputs": [],
   "source": [
    "site = BeautifulSoup(content, 'html.parser')"
   ]
  },
  {
   "cell_type": "code",
   "execution_count": 17,
   "metadata": {},
   "outputs": [],
   "source": [
    "# retorna o site com a estrutura html mais organizada\n",
    "#print(site.prettify())"
   ]
  },
  {
   "cell_type": "code",
   "execution_count": 18,
   "metadata": {},
   "outputs": [
    {
     "name": "stdout",
     "output_type": "stream",
     "text": [
      "<div class=\"feed-post-body\">\n",
      " <div class=\"feed-post-header with-post-chapeu\">\n",
      "  <span class=\"feed-post-header-chapeu\">\n",
      "   Território disputado\n",
      "  </span>\n",
      " </div>\n",
      " <div class=\"feed-post-body-title gui-color-primary gui-color-hover\">\n",
      "  <div class=\"_evt\">\n",
      "   <h2>\n",
      "    <a class=\"feed-post-link gui-color-primary gui-color-hover\" href=\"https://g1.globo.com/mundo/noticia/2024/04/03/essequibo-maduro-promulga-lei-sobre-territorio-da-guiana.ghtml\">\n",
      "     <p elementtiming=\"text-ssr\">\n",
      "      Maduro promulga lei que incorpora Essequibo, na Guiana, à Venezuela\n",
      "     </p>\n",
      "    </a>\n",
      "   </h2>\n",
      "  </div>\n",
      " </div>\n",
      " <div class=\"feed-media-wrapper\">\n",
      "  <a class=\"feed-post-figure-link gui-image-hover\" href=\"https://g1.globo.com/mundo/noticia/2024/04/03/essequibo-maduro-promulga-lei-sobre-territorio-da-guiana.ghtml\">\n",
      "   <div class=\"bstn-fd-item-cover\">\n",
      "    <picture class=\"bstn-fd-cover-picture\">\n",
      "     <img alt=\"Maduro promulga lei que incorpora Essequibo, na Guiana, à Venezuela\" class=\"bstn-fd-picture-image\" elementtiming=\"image-ssr\" loading=\"lazy\" sizes=\"(min-width: 540px) 50vw, (min-width: 900px) 30vw, 100vw\" src=\"https://s2-g1.glbimg.com/1jr4ZRc08jdax_7-eAHonkTNvPQ=/0x60:1003x624/540x304/smart/filters:max_age(3600)/https://s2-g1.glbimg.com/JP1aak8iMrYIAQUVvK9MMgI6Wz4=/1200x/smart/filters:cover():strip_icc()/i.s3.glbimg.com/v1/AUTH_59edd422c0c84a879bd37670ae4f538a/internal_photos/bs/2024/A/p/AmS2fgQISb1qtMe5NcDw/gksbafkwsaa8dhg.jpeg\" srcset=\"https://s2-g1.glbimg.com/1jr4ZRc08jdax_7-eAHonkTNvPQ=/0x60:1003x624/540x304/smart/filters:max_age(3600)/https://s2-g1.glbimg.com/JP1aak8iMrYIAQUVvK9MMgI6Wz4=/1200x/smart/filters:cover():strip_icc()/i.s3.glbimg.com/v1/AUTH_59edd422c0c84a879bd37670ae4f538a/internal_photos/bs/2024/A/p/AmS2fgQISb1qtMe5NcDw/gksbafkwsaa8dhg.jpeg 540w,https://s2-g1.glbimg.com/ZVQ1qnRHe_REcTLTSEJPNTitXZ8=/0x60:1003x624/810x456/smart/filters:max_age(3600)/https://s2-g1.glbimg.com/JP1aak8iMrYIAQUVvK9MMgI6Wz4=/1200x/smart/filters:cover():strip_icc()/i.s3.glbimg.com/v1/AUTH_59edd422c0c84a879bd37670ae4f538a/internal_photos/bs/2024/A/p/AmS2fgQISb1qtMe5NcDw/gksbafkwsaa8dhg.jpeg 810w,https://s2-g1.glbimg.com/6z_31bY5fPRVawcA5sTo-oc23tI=/0x60:1003x624/1080x608/smart/filters:max_age(3600)/https://s2-g1.glbimg.com/JP1aak8iMrYIAQUVvK9MMgI6Wz4=/1200x/smart/filters:cover():strip_icc()/i.s3.glbimg.com/v1/AUTH_59edd422c0c84a879bd37670ae4f538a/internal_photos/bs/2024/A/p/AmS2fgQISb1qtMe5NcDw/gksbafkwsaa8dhg.jpeg 1080w\" title=\"Maduro promulga lei que incorpora Essequibo, na Guiana, à Venezuela\"/>\n",
      "    </picture>\n",
      "   </div>\n",
      "  </a>\n",
      " </div>\n",
      " <div class=\"feed-post-metadata\">\n",
      "  <span class=\"feed-post-datetime\">\n",
      "   Há 11 horas\n",
      "  </span>\n",
      " </div>\n",
      " <div class=\"bstn-related\">\n",
      "  <ul class=\"bstn-relateditems\">\n",
      "   <li class=\"bstn-relateditem\">\n",
      "    <div class=\"bstn-fd-relatedtext\">\n",
      "     <a class=\"gui-color-primary gui-color-hover feed-post-body-title bstn-relatedtext\" href=\"https://g1.globo.com/mundo/noticia/2024/04/04/essequibo-o-que-ha-no-territorio-da-guiana-que-a-venezuela-tenta-anexar-e-como-comecou-a-disputa.ghtml\">\n",
      "      Entenda o que há no território e como começou a disputa\n",
      "     </a>\n",
      "     <div class=\"feed-post-metadata\">\n",
      "      <span class=\"feed-post-datetime\">\n",
      "       Há 11 horas\n",
      "      </span>\n",
      "     </div>\n",
      "    </div>\n",
      "   </li>\n",
      "  </ul>\n",
      " </div>\n",
      "</div>\n",
      "\n"
     ]
    }
   ],
   "source": [
    "# HTML da notícia\n",
    "post = site.find('div', attrs={'class':'feed-post-body'})\n",
    "print(post.prettify())"
   ]
  },
  {
   "cell_type": "code",
   "execution_count": 19,
   "metadata": {},
   "outputs": [
    {
     "name": "stdout",
     "output_type": "stream",
     "text": [
      "<a class=\"feed-post-link gui-color-primary gui-color-hover\" href=\"https://g1.globo.com/mundo/noticia/2024/04/03/essequibo-maduro-promulga-lei-sobre-territorio-da-guiana.ghtml\"><p elementtiming=\"text-ssr\">Maduro promulga lei que incorpora Essequibo, na Guiana, à Venezuela</p></a>\n",
      "______________________________\n",
      "Maduro promulga lei que incorpora Essequibo, na Guiana, à Venezuela\n",
      "______________________________\n"
     ]
    }
   ],
   "source": [
    "# retorna o título da notícia\n",
    "title = post.find('a', attrs={'class':'feed-post-link'})\n",
    "\n",
    "# retorna o subtitulo\n",
    "#sub_title = post.find('div', attrs={'class': 'feed-post-body-resumo'})\n",
    "\n",
    "print(title)\n",
    "print('_'*30)\n",
    "print(title.text)\n",
    "print('_'*30)\n",
    "#print(sub_title.text)"
   ]
  },
  {
   "cell_type": "markdown",
   "metadata": {},
   "source": [
    "## 2. Automatizando para todas as notícias"
   ]
  },
  {
   "cell_type": "code",
   "execution_count": 20,
   "metadata": {},
   "outputs": [
    {
     "name": "stdout",
     "output_type": "stream",
     "text": [
      "[['Maduro promulga lei que incorpora Essequibo, na Guiana, à Venezuela', '', 'https://g1.globo.com/mundo/noticia/2024/04/03/essequibo-maduro-promulga-lei-sobre-territorio-da-guiana.ghtml'], ['INFOGRÁFICO: único acesso viável por terra a Essequibo passa pelo Brasil', 'Para pesquisador, não há risco de invasão venezuelana pelo território brasileiro.', 'https://g1.globo.com/rr/roraima/noticia/2024/04/04/infografico-essequibo-fronteira-brasil-guiana.ghtml'], [\"A 'fábrica de bilionários' em SC que colocou 5 herdeiros na lista da Forbes\", '', 'https://g1.globo.com/sc/santa-catarina/noticia/2024/04/04/brasileira-considerada-a-bilionaria-mais-jovem-do-mundo-e-herdeira-de-fabrica-de-super-ricos-de-sc.ghtml'], [\"1º paciente a receber rim de porco tem alta; 'Emoção', diz médico brasileiro\", '', 'https://g1.globo.com/saude/noticia/2024/04/04/primeiro-paciente-a-receber-rim-de-porco-em-transplante-deixa-hospital-grande-emocao-diz-medico-brasileiro.ghtml'], ['O que sustenta o milagre econômico na Itália', '', 'https://g1.globo.com/economia/noticia/2024/04/04/o-segredo-do-milagre-economico-italiano.ghtml'], ['Como Taiwan se preparou para o forte terremoto e evitou tragédia maior', '', 'https://g1.globo.com/mundo/noticia/2024/04/04/treinamento-constante-e-leis-que-exigem-predios-mais-resistentes-como-taiwan-consegue-sobreviver-a-terremotos-de-grande-magnitude.ghtml'], ['VÍDEO: funcionárias de maternidade protegem bebês durante o tremor', '', 'https://g1.globo.com/mundo/noticia/2024/04/04/claro-que-ficamos-com-medo-mas-e-o-instinto-natural-funcionarias-de-maternidade-protegem-bebes-durante-tremor-em-taiwan-video.ghtml'], [\"Após 'fritura', presidente da Petrobras vai discutir com Lula se segue no cargo\", 'Chefe da estatal relatou a aliados que é alvo de ataques de ministro.', 'https://g1.globo.com/politica/blog/andreia-sadi/post/2024/04/04/prates-quer-que-lula-arbitre-tiroteio-por-sua-vaga-e-diz-a-aliados-que-blinda-petrobras.ghtml']]\n"
     ]
    }
   ],
   "source": [
    "# findAll serve para localizar todos os HTMLS com o mesmo atributo\n",
    "posts = site.findAll('div', attrs={'class':'feed-post-body'})\n",
    "\n",
    "for news in posts:\n",
    "    title_2 = news.find('a', attrs={'class':'feed-post-link'})\n",
    "    \n",
    "    # print(title_2.text)\n",
    "    # print(title_2['href']) #link da notícia\n",
    "    \n",
    "    sub_title_2 = news.find('div', attrs={'class':'feed-post-body-resumo'})\n",
    "    \n",
    "    # confere se há subtitulo para assim poder iterar\n",
    "    if (sub_title_2):\n",
    "        news_list.append([title_2.text, sub_title_2.text, title_2['href']])\n",
    "    else:\n",
    "        news_list.append([title_2.text, '', title_2['href']])\n",
    "        \n",
    "print(news_list)\n",
    "    "
   ]
  },
  {
   "cell_type": "code",
   "execution_count": 21,
   "metadata": {},
   "outputs": [
    {
     "data": {
      "text/html": [
       "<div>\n",
       "<style scoped>\n",
       "    .dataframe tbody tr th:only-of-type {\n",
       "        vertical-align: middle;\n",
       "    }\n",
       "\n",
       "    .dataframe tbody tr th {\n",
       "        vertical-align: top;\n",
       "    }\n",
       "\n",
       "    .dataframe thead th {\n",
       "        text-align: right;\n",
       "    }\n",
       "</style>\n",
       "<table border=\"1\" class=\"dataframe\">\n",
       "  <thead>\n",
       "    <tr style=\"text-align: right;\">\n",
       "      <th></th>\n",
       "      <th>Título</th>\n",
       "      <th>Subtitulo</th>\n",
       "      <th>Link</th>\n",
       "    </tr>\n",
       "  </thead>\n",
       "  <tbody>\n",
       "    <tr>\n",
       "      <th>0</th>\n",
       "      <td>Maduro promulga lei que incorpora Essequibo, n...</td>\n",
       "      <td></td>\n",
       "      <td>https://g1.globo.com/mundo/noticia/2024/04/03/...</td>\n",
       "    </tr>\n",
       "    <tr>\n",
       "      <th>1</th>\n",
       "      <td>INFOGRÁFICO: único acesso viável por terra a E...</td>\n",
       "      <td>Para pesquisador, não há risco de invasão vene...</td>\n",
       "      <td>https://g1.globo.com/rr/roraima/noticia/2024/0...</td>\n",
       "    </tr>\n",
       "    <tr>\n",
       "      <th>2</th>\n",
       "      <td>A 'fábrica de bilionários' em SC que colocou 5...</td>\n",
       "      <td></td>\n",
       "      <td>https://g1.globo.com/sc/santa-catarina/noticia...</td>\n",
       "    </tr>\n",
       "    <tr>\n",
       "      <th>3</th>\n",
       "      <td>1º paciente a receber rim de porco tem alta; '...</td>\n",
       "      <td></td>\n",
       "      <td>https://g1.globo.com/saude/noticia/2024/04/04/...</td>\n",
       "    </tr>\n",
       "    <tr>\n",
       "      <th>4</th>\n",
       "      <td>O que sustenta o milagre econômico na Itália</td>\n",
       "      <td></td>\n",
       "      <td>https://g1.globo.com/economia/noticia/2024/04/...</td>\n",
       "    </tr>\n",
       "    <tr>\n",
       "      <th>5</th>\n",
       "      <td>Como Taiwan se preparou para o forte terremoto...</td>\n",
       "      <td></td>\n",
       "      <td>https://g1.globo.com/mundo/noticia/2024/04/04/...</td>\n",
       "    </tr>\n",
       "    <tr>\n",
       "      <th>6</th>\n",
       "      <td>VÍDEO: funcionárias de maternidade protegem be...</td>\n",
       "      <td></td>\n",
       "      <td>https://g1.globo.com/mundo/noticia/2024/04/04/...</td>\n",
       "    </tr>\n",
       "    <tr>\n",
       "      <th>7</th>\n",
       "      <td>Após 'fritura', presidente da Petrobras vai di...</td>\n",
       "      <td>Chefe da estatal relatou a aliados que é alvo ...</td>\n",
       "      <td>https://g1.globo.com/politica/blog/andreia-sad...</td>\n",
       "    </tr>\n",
       "  </tbody>\n",
       "</table>\n",
       "</div>"
      ],
      "text/plain": [
       "                                              Título  \\\n",
       "0  Maduro promulga lei que incorpora Essequibo, n...   \n",
       "1  INFOGRÁFICO: único acesso viável por terra a E...   \n",
       "2  A 'fábrica de bilionários' em SC que colocou 5...   \n",
       "3  1º paciente a receber rim de porco tem alta; '...   \n",
       "4       O que sustenta o milagre econômico na Itália   \n",
       "5  Como Taiwan se preparou para o forte terremoto...   \n",
       "6  VÍDEO: funcionárias de maternidade protegem be...   \n",
       "7  Após 'fritura', presidente da Petrobras vai di...   \n",
       "\n",
       "                                           Subtitulo  \\\n",
       "0                                                      \n",
       "1  Para pesquisador, não há risco de invasão vene...   \n",
       "2                                                      \n",
       "3                                                      \n",
       "4                                                      \n",
       "5                                                      \n",
       "6                                                      \n",
       "7  Chefe da estatal relatou a aliados que é alvo ...   \n",
       "\n",
       "                                                Link  \n",
       "0  https://g1.globo.com/mundo/noticia/2024/04/03/...  \n",
       "1  https://g1.globo.com/rr/roraima/noticia/2024/0...  \n",
       "2  https://g1.globo.com/sc/santa-catarina/noticia...  \n",
       "3  https://g1.globo.com/saude/noticia/2024/04/04/...  \n",
       "4  https://g1.globo.com/economia/noticia/2024/04/...  \n",
       "5  https://g1.globo.com/mundo/noticia/2024/04/04/...  \n",
       "6  https://g1.globo.com/mundo/noticia/2024/04/04/...  \n",
       "7  https://g1.globo.com/politica/blog/andreia-sad...  "
      ]
     },
     "execution_count": 21,
     "metadata": {},
     "output_type": "execute_result"
    }
   ],
   "source": [
    "# criando dataframe para notícias\n",
    "df_news = pd.DataFrame(news_list, columns=['Título', 'Subtitulo', 'Link'])\n",
    "df_news"
   ]
  },
  {
   "cell_type": "code",
   "execution_count": 22,
   "metadata": {},
   "outputs": [],
   "source": [
    "# salvando arquivo em CSV\n",
    "df_news.to_csv('Notícias G1.csv', index=False)"
   ]
  }
 ],
 "metadata": {
  "kernelspec": {
   "display_name": "Python 3",
   "language": "python",
   "name": "python3"
  },
  "language_info": {
   "codemirror_mode": {
    "name": "ipython",
    "version": 3
   },
   "file_extension": ".py",
   "mimetype": "text/x-python",
   "name": "python",
   "nbconvert_exporter": "python",
   "pygments_lexer": "ipython3",
   "version": "3.11.2"
  }
 },
 "nbformat": 4,
 "nbformat_minor": 2
}
